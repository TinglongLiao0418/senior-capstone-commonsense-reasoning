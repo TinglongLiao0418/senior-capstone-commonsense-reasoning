{
 "cells": [
  {
   "cell_type": "code",
   "execution_count": 21,
   "metadata": {},
   "outputs": [],
   "source": [
    "import pandas as pd\n",
    "import json"
   ]
  },
  {
   "cell_type": "code",
   "execution_count": 22,
   "metadata": {},
   "outputs": [],
   "source": [
    "knowledge_path = \"../data/knowledge/conceptnet.csv\"\n",
    "train_question_path = \"../data/csqa2/train.json\"\n",
    "dev_question_path = \"../data/csqa2/dev.json\"\n",
    "test_question_path = \"../data/csqa2/test.json\""
   ]
  },
  {
   "cell_type": "code",
   "execution_count": 46,
   "metadata": {},
   "outputs": [],
   "source": [
    "cpt = pd.read_csv(knowledge_path, sep='\\t', header=None)\n",
    "cpt.columns = ['relation', 'start', 'end']\n",
    "\n",
    "with open(train_question_path, 'r') as f:\n",
    "    train_questions = [json.loads(l) for l in f]\n",
    "    \n",
    "with open(dev_question_path, 'r') as f:\n",
    "    dev_questions = [json.loads(l) for l in f]\n",
    "    \n",
    "with open(test_question_path, 'r') as f:\n",
    "    test_questions = [json.loads(l) for l in f]"
   ]
  },
  {
   "cell_type": "code",
   "execution_count": 47,
   "metadata": {},
   "outputs": [
    {
     "data": {
      "text/plain": [
       "[{'id': '0000488c294c99bd1a6cf10258dae8c1',\n",
       "  'question': 'The world trade center is no more because of 9/11?',\n",
       "  'answer': 'yes',\n",
       "  'confidence': 0.89,\n",
       "  'date': '12/16/2020',\n",
       "  'relational_prompt': 'because',\n",
       "  'topic_prompt': 'world trade center',\n",
       "  'relational_prompt_used': True,\n",
       "  'topic_prompt_used': True,\n",
       "  'validations': ['yes', 'yes', 'yes', 'no']},\n",
       " {'id': '0007ec77ec8db1d0b9f4e72fd1a931c5',\n",
       "  'question': 'a pupil can be either a student or part of an eye',\n",
       "  'answer': 'yes',\n",
       "  'confidence': 0.98,\n",
       "  'date': '2/12/2021',\n",
       "  'relational_prompt': 'sometimes',\n",
       "  'topic_prompt': 'pupil',\n",
       "  'relational_prompt_used': False,\n",
       "  'topic_prompt_used': True,\n",
       "  'validations': ['yes', 'yes']},\n",
       " {'id': '000a24f0db61226f9a4a744960a16104',\n",
       "  'question': 'Unity has a lot to do with family.',\n",
       "  'answer': 'yes',\n",
       "  'confidence': 0.71,\n",
       "  'date': '4/7/2021',\n",
       "  'relational_prompt': 'has',\n",
       "  'topic_prompt': 'unity',\n",
       "  'relational_prompt_used': True,\n",
       "  'topic_prompt_used': True,\n",
       "  'validations': ['yes', 'yes']}]"
      ]
     },
     "execution_count": 47,
     "metadata": {},
     "output_type": "execute_result"
    }
   ],
   "source": [
    "train_questions[:3]"
   ]
  },
  {
   "cell_type": "code",
   "execution_count": 56,
   "metadata": {},
   "outputs": [
    {
     "data": {
      "text/plain": [
       "start\n",
       "0                    14\n",
       "0.22_inch_calibre     1\n",
       "000                   5\n",
       "007                   4\n",
       "007s                  1\n",
       "                     ..\n",
       "𐑑                     1\n",
       "𐑓                     1\n",
       "𐑝                     1\n",
       "𐑞                     1\n",
       "🍕                     1\n",
       "Name: relation, Length: 935409, dtype: int64"
      ]
     },
     "execution_count": 56,
     "metadata": {},
     "output_type": "execute_result"
    }
   ],
   "source": [
    "cpt_cnt = cpt.groupby('start').count()['relation']\n",
    "cpt_cnt"
   ]
  },
  {
   "cell_type": "code",
   "execution_count": 84,
   "metadata": {},
   "outputs": [],
   "source": [
    "def prompt_knowledge_cnt(question, knowledge):\n",
    "    prompt = list(set(['_'.join(q['topic_prompt'].split(' ')) for q in question]))\n",
    "    cnt = [knowledge[p] if p in knowledge else 0 for p in prompt]\n",
    "    cnt.sort()\n",
    "    return cnt\n",
    "\n",
    "\n",
    "test_cnt = prompt_knowledge_cnt(test_questions, cpt_cnt)\n",
    "dev_cnt = prompt_knowledge_cnt(dev_questions, cpt_cnt)\n",
    "train_cnt = prompt_knowledge_cnt(train_questions, cpt_cnt)\n",
    "\n"
   ]
  },
  {
   "cell_type": "code",
   "execution_count": 82,
   "metadata": {},
   "outputs": [],
   "source": [
    "import matplotlib.pyplot as plt"
   ]
  },
  {
   "cell_type": "code",
   "execution_count": 87,
   "metadata": {},
   "outputs": [
    {
     "data": {
      "image/png": "[encoded data removed]",
      "text/plain": [
       "<Figure size 432x288 with 1 Axes>"
      ]
     },
     "metadata": {
      "needs_background": "light"
     },
     "output_type": "display_data"
    },
    {
     "data": {
      "text/html": [
       "<div>\n",
       "<style scoped>\n",
       "    .dataframe tbody tr th:only-of-type {\n",
       "        vertical-align: middle;\n",
       "    }\n",
       "\n",
       "    .dataframe tbody tr th {\n",
       "        vertical-align: top;\n",
       "    }\n",
       "\n",
       "    .dataframe thead th {\n",
       "        text-align: right;\n",
       "    }\n",
       "</style>\n",
       "<table border=\"1\" class=\"dataframe\">\n",
       "  <thead>\n",
       "    <tr style=\"text-align: right;\">\n",
       "      <th></th>\n",
       "      <th>0</th>\n",
       "    </tr>\n",
       "  </thead>\n",
       "  <tbody>\n",
       "    <tr>\n",
       "      <th>count</th>\n",
       "      <td>1369.000000</td>\n",
       "    </tr>\n",
       "    <tr>\n",
       "      <th>mean</th>\n",
       "      <td>104.039445</td>\n",
       "    </tr>\n",
       "    <tr>\n",
       "      <th>std</th>\n",
       "      <td>206.814710</td>\n",
       "    </tr>\n",
       "    <tr>\n",
       "      <th>min</th>\n",
       "      <td>0.000000</td>\n",
       "    </tr>\n",
       "    <tr>\n",
       "      <th>25%</th>\n",
       "      <td>27.000000</td>\n",
       "    </tr>\n",
       "    <tr>\n",
       "      <th>50%</th>\n",
       "      <td>60.000000</td>\n",
       "    </tr>\n",
       "    <tr>\n",
       "      <th>75%</th>\n",
       "      <td>127.000000</td>\n",
       "    </tr>\n",
       "    <tr>\n",
       "      <th>max</th>\n",
       "      <td>6378.000000</td>\n",
       "    </tr>\n",
       "  </tbody>\n",
       "</table>\n",
       "</div>"
      ],
      "text/plain": [
       "                 0\n",
       "count  1369.000000\n",
       "mean    104.039445\n",
       "std     206.814710\n",
       "min       0.000000\n",
       "25%      27.000000\n",
       "50%      60.000000\n",
       "75%     127.000000\n",
       "max    6378.000000"
      ]
     },
     "execution_count": 87,
     "metadata": {},
     "output_type": "execute_result"
    }
   ],
   "source": [
    "plt.hist(train_cnt)\n",
    "plt.show()\n",
    "pd.DataFrame(train_cnt).describe()"
   ]
  },
  {
   "cell_type": "code",
   "execution_count": 88,
   "metadata": {},
   "outputs": [
    {
     "data": {
      "image/png": "[encoded data removed]",
      "text/plain": [
       "<Figure size 432x288 with 1 Axes>"
      ]
     },
     "metadata": {
      "needs_background": "light"
     },
     "output_type": "display_data"
    },
    {
     "data": {
      "text/html": [
       "<div>\n",
       "<style scoped>\n",
       "    .dataframe tbody tr th:only-of-type {\n",
       "        vertical-align: middle;\n",
       "    }\n",
       "\n",
       "    .dataframe tbody tr th {\n",
       "        vertical-align: top;\n",
       "    }\n",
       "\n",
       "    .dataframe thead th {\n",
       "        text-align: right;\n",
       "    }\n",
       "</style>\n",
       "<table border=\"1\" class=\"dataframe\">\n",
       "  <thead>\n",
       "    <tr style=\"text-align: right;\">\n",
       "      <th></th>\n",
       "      <th>0</th>\n",
       "    </tr>\n",
       "  </thead>\n",
       "  <tbody>\n",
       "    <tr>\n",
       "      <th>count</th>\n",
       "      <td>559.000000</td>\n",
       "    </tr>\n",
       "    <tr>\n",
       "      <th>mean</th>\n",
       "      <td>139.386404</td>\n",
       "    </tr>\n",
       "    <tr>\n",
       "      <th>std</th>\n",
       "      <td>133.107070</td>\n",
       "    </tr>\n",
       "    <tr>\n",
       "      <th>min</th>\n",
       "      <td>1.000000</td>\n",
       "    </tr>\n",
       "    <tr>\n",
       "      <th>25%</th>\n",
       "      <td>40.500000</td>\n",
       "    </tr>\n",
       "    <tr>\n",
       "      <th>50%</th>\n",
       "      <td>98.000000</td>\n",
       "    </tr>\n",
       "    <tr>\n",
       "      <th>75%</th>\n",
       "      <td>187.500000</td>\n",
       "    </tr>\n",
       "    <tr>\n",
       "      <th>max</th>\n",
       "      <td>697.000000</td>\n",
       "    </tr>\n",
       "  </tbody>\n",
       "</table>\n",
       "</div>"
      ],
      "text/plain": [
       "                0\n",
       "count  559.000000\n",
       "mean   139.386404\n",
       "std    133.107070\n",
       "min      1.000000\n",
       "25%     40.500000\n",
       "50%     98.000000\n",
       "75%    187.500000\n",
       "max    697.000000"
      ]
     },
     "execution_count": 88,
     "metadata": {},
     "output_type": "execute_result"
    }
   ],
   "source": [
    "plt.hist(dev_cnt)\n",
    "plt.show()\n",
    "pd.DataFrame(dev_cnt).describe()"
   ]
  },
  {
   "cell_type": "code",
   "execution_count": 89,
   "metadata": {},
   "outputs": [
    {
     "data": {
      "image/png": "[encoded data removed]",
      "text/plain": [
       "<Figure size 432x288 with 1 Axes>"
      ]
     },
     "metadata": {
      "needs_background": "light"
     },
     "output_type": "display_data"
    },
    {
     "data": {
      "text/html": [
       "<div>\n",
       "<style scoped>\n",
       "    .dataframe tbody tr th:only-of-type {\n",
       "        vertical-align: middle;\n",
       "    }\n",
       "\n",
       "    .dataframe tbody tr th {\n",
       "        vertical-align: top;\n",
       "    }\n",
       "\n",
       "    .dataframe thead th {\n",
       "        text-align: right;\n",
       "    }\n",
       "</style>\n",
       "<table border=\"1\" class=\"dataframe\">\n",
       "  <thead>\n",
       "    <tr style=\"text-align: right;\">\n",
       "      <th></th>\n",
       "      <th>0</th>\n",
       "    </tr>\n",
       "  </thead>\n",
       "  <tbody>\n",
       "    <tr>\n",
       "      <th>count</th>\n",
       "      <td>562.000000</td>\n",
       "    </tr>\n",
       "    <tr>\n",
       "      <th>mean</th>\n",
       "      <td>139.259786</td>\n",
       "    </tr>\n",
       "    <tr>\n",
       "      <th>std</th>\n",
       "      <td>133.193787</td>\n",
       "    </tr>\n",
       "    <tr>\n",
       "      <th>min</th>\n",
       "      <td>1.000000</td>\n",
       "    </tr>\n",
       "    <tr>\n",
       "      <th>25%</th>\n",
       "      <td>40.250000</td>\n",
       "    </tr>\n",
       "    <tr>\n",
       "      <th>50%</th>\n",
       "      <td>98.000000</td>\n",
       "    </tr>\n",
       "    <tr>\n",
       "      <th>75%</th>\n",
       "      <td>187.750000</td>\n",
       "    </tr>\n",
       "    <tr>\n",
       "      <th>max</th>\n",
       "      <td>697.000000</td>\n",
       "    </tr>\n",
       "  </tbody>\n",
       "</table>\n",
       "</div>"
      ],
      "text/plain": [
       "                0\n",
       "count  562.000000\n",
       "mean   139.259786\n",
       "std    133.193787\n",
       "min      1.000000\n",
       "25%     40.250000\n",
       "50%     98.000000\n",
       "75%    187.750000\n",
       "max    697.000000"
      ]
     },
     "execution_count": 89,
     "metadata": {},
     "output_type": "execute_result"
    }
   ],
   "source": [
    "plt.hist(test_cnt)\n",
    "plt.show()\n",
    "pd.DataFrame(test_cnt).describe()"
   ]
  },
  {
   "cell_type": "code",
   "execution_count": 64,
   "metadata": {},
   "outputs": [
    {
     "data": {
      "text/plain": [
       "104"
      ]
     },
     "execution_count": 64,
     "metadata": {},
     "output_type": "execute_result"
    }
   ],
   "source": [
    "cpt_cnt['famous']"
   ]
  },
  {
   "cell_type": "code",
   "execution_count": 71,
   "metadata": {},
   "outputs": [
    {
     "name": "stdout",
     "output_type": "stream",
     "text": [
      "{'id': '3893e89a3eb808568eeade04423fbef4', 'question': 'Only a few people are smaller than barack obama', 'answer': 'no', 'confidence': 0.99, 'date': '1/25/2021', 'relational_prompt': 'few', 'topic_prompt': 'smaller than', 'relational_prompt_used': True, 'topic_prompt_used': True, 'validations': ['no', 'no', 'no']}\n",
      "{'id': '47dd7f276a82af792385fbdc96ad3c43', 'question': 'If a can is smaller than a bottle it will hold less?', 'answer': 'yes', 'confidence': 0.66, 'date': '2/3/2021', 'relational_prompt': 'can', 'topic_prompt': 'smaller than', 'relational_prompt_used': True, 'topic_prompt_used': True, 'validations': ['yes', 'bad question']}\n"
     ]
    }
   ],
   "source": [
    "for i in train_questions:\n",
    "    if i['topic_prompt'] == 'smaller than':\n",
    "        print(i)"
   ]
  },
  {
   "cell_type": "code",
   "execution_count": null,
   "metadata": {},
   "outputs": [],
   "source": []
  }
 ],
 "metadata": {
  "kernelspec": {
   "display_name": "Python 3",
   "language": "python",
   "name": "python3"
  },
  "language_info": {
   "codemirror_mode": {
    "name": "ipython",
    "version": 3
   },
   "file_extension": ".py",
   "mimetype": "text/x-python",
   "name": "python",
   "nbconvert_exporter": "python",
   "pygments_lexer": "ipython3",
   "version": "3.7.6"
  }
 },
 "nbformat": 4,
 "nbformat_minor": 4
}
